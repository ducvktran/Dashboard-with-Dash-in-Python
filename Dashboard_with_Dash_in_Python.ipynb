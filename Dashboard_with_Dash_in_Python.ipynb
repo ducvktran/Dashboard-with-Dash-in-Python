{
  "nbformat": 4,
  "nbformat_minor": 0,
  "metadata": {
    "colab": {
      "provenance": []
    },
    "kernelspec": {
      "name": "python3",
      "display_name": "Python 3"
    },
    "language_info": {
      "name": "python"
    }
  },
  "cells": [
    {
      "cell_type": "markdown",
      "source": [
        "The dataset used to make the dashboard contains the following columns:\n",
        "\n",
        " - Date: The date of the observation.\n",
        " - Recession: A binary variable indicating recession perion; 1 means it was recession, 0 means it was normal.\n",
        " - Automobile_Sales: The number of vehicles sold during the period.\n",
        " - GDP: The per capita GDP value in USD.\n",
        " - unemployment_rate: The monthly unemployment rate.\n",
        " - Consumer_Confidence: A synthetic index representing consumer confidence, which can impact consumer spending and automobile purchases.\n",
        " - Seasonality_Weight: The weight representing the seasonality effect on\n",
        " automobile sales during the period.\n",
        " - Price: The average vehicle price during the period.\n",
        " - Advertising_Expenditure: The advertising expenditure of the company.\n",
        " - Vehicle_Type: The type of vehicles sold; Supperminicar, Smallfamiliycar, Mediumfamilycar, Executivecar, Sports.\n",
        " - Competition: The measure of competition in the market, such as the number of competitors or market share of major manufacturers.\n",
        " - Month: Month of the observation extracted from Date.\n",
        " - Year: Year of the observation extracted from Date.\n"
      ],
      "metadata": {
        "id": "fnZp5PrOIKEG"
      }
    },
    {
      "cell_type": "markdown",
      "source": [
        "## Setting Up Libraries"
      ],
      "metadata": {
        "id": "LniAZIWBJgaP"
      }
    },
    {
      "cell_type": "code",
      "execution_count": 1,
      "metadata": {
        "colab": {
          "base_uri": "https://localhost:8080/",
          "height": 1000
        },
        "id": "EoR7CRSsIECq",
        "outputId": "fe79bd2a-d713-4314-bdcf-8a64fde66c2f"
      },
      "outputs": [
        {
          "output_type": "stream",
          "name": "stdout",
          "text": [
            "Requirement already satisfied: pandas in /usr/local/lib/python3.10/dist-packages (1.5.3)\n",
            "Collecting dash\n",
            "  Downloading dash-2.16.1-py3-none-any.whl (10.2 MB)\n",
            "\u001b[2K     \u001b[90m━━━━━━━━━━━━━━━━━━━━━━━━━━━━━━━━━━━━━━━━\u001b[0m \u001b[32m10.2/10.2 MB\u001b[0m \u001b[31m20.4 MB/s\u001b[0m eta \u001b[36m0:00:00\u001b[0m\n",
            "\u001b[?25hRequirement already satisfied: python-dateutil>=2.8.1 in /usr/local/lib/python3.10/dist-packages (from pandas) (2.8.2)\n",
            "Requirement already satisfied: pytz>=2020.1 in /usr/local/lib/python3.10/dist-packages (from pandas) (2023.4)\n",
            "Requirement already satisfied: numpy>=1.21.0 in /usr/local/lib/python3.10/dist-packages (from pandas) (1.25.2)\n",
            "Requirement already satisfied: Flask<3.1,>=1.0.4 in /usr/local/lib/python3.10/dist-packages (from dash) (2.2.5)\n",
            "Requirement already satisfied: Werkzeug<3.1 in /usr/local/lib/python3.10/dist-packages (from dash) (3.0.1)\n",
            "Requirement already satisfied: plotly>=5.0.0 in /usr/local/lib/python3.10/dist-packages (from dash) (5.15.0)\n",
            "Collecting dash-html-components==2.0.0 (from dash)\n",
            "  Downloading dash_html_components-2.0.0-py3-none-any.whl (4.1 kB)\n",
            "Collecting dash-core-components==2.0.0 (from dash)\n",
            "  Downloading dash_core_components-2.0.0-py3-none-any.whl (3.8 kB)\n",
            "Collecting dash-table==5.0.0 (from dash)\n",
            "  Downloading dash_table-5.0.0-py3-none-any.whl (3.9 kB)\n",
            "Requirement already satisfied: importlib-metadata in /usr/local/lib/python3.10/dist-packages (from dash) (7.0.2)\n",
            "Requirement already satisfied: typing-extensions>=4.1.1 in /usr/local/lib/python3.10/dist-packages (from dash) (4.10.0)\n",
            "Requirement already satisfied: requests in /usr/local/lib/python3.10/dist-packages (from dash) (2.31.0)\n",
            "Collecting retrying (from dash)\n",
            "  Downloading retrying-1.3.4-py3-none-any.whl (11 kB)\n",
            "Requirement already satisfied: nest-asyncio in /usr/local/lib/python3.10/dist-packages (from dash) (1.6.0)\n",
            "Requirement already satisfied: setuptools in /usr/local/lib/python3.10/dist-packages (from dash) (67.7.2)\n",
            "Requirement already satisfied: Jinja2>=3.0 in /usr/local/lib/python3.10/dist-packages (from Flask<3.1,>=1.0.4->dash) (3.1.3)\n",
            "Requirement already satisfied: itsdangerous>=2.0 in /usr/local/lib/python3.10/dist-packages (from Flask<3.1,>=1.0.4->dash) (2.1.2)\n",
            "Requirement already satisfied: click>=8.0 in /usr/local/lib/python3.10/dist-packages (from Flask<3.1,>=1.0.4->dash) (8.1.7)\n",
            "Requirement already satisfied: tenacity>=6.2.0 in /usr/local/lib/python3.10/dist-packages (from plotly>=5.0.0->dash) (8.2.3)\n",
            "Requirement already satisfied: packaging in /usr/local/lib/python3.10/dist-packages (from plotly>=5.0.0->dash) (24.0)\n",
            "Requirement already satisfied: six>=1.5 in /usr/local/lib/python3.10/dist-packages (from python-dateutil>=2.8.1->pandas) (1.16.0)\n",
            "Requirement already satisfied: MarkupSafe>=2.1.1 in /usr/local/lib/python3.10/dist-packages (from Werkzeug<3.1->dash) (2.1.5)\n",
            "Requirement already satisfied: zipp>=0.5 in /usr/local/lib/python3.10/dist-packages (from importlib-metadata->dash) (3.17.0)\n",
            "Requirement already satisfied: charset-normalizer<4,>=2 in /usr/local/lib/python3.10/dist-packages (from requests->dash) (3.3.2)\n",
            "Requirement already satisfied: idna<4,>=2.5 in /usr/local/lib/python3.10/dist-packages (from requests->dash) (3.6)\n",
            "Requirement already satisfied: urllib3<3,>=1.21.1 in /usr/local/lib/python3.10/dist-packages (from requests->dash) (2.0.7)\n",
            "Requirement already satisfied: certifi>=2017.4.17 in /usr/local/lib/python3.10/dist-packages (from requests->dash) (2024.2.2)\n",
            "Installing collected packages: dash-table, dash-html-components, dash-core-components, retrying, dash\n",
            "Successfully installed dash-2.16.1 dash-core-components-2.0.0 dash-html-components-2.0.0 dash-table-5.0.0 retrying-1.3.4\n",
            "Collecting httpx==0.20\n",
            "  Downloading httpx-0.20.0-py3-none-any.whl (82 kB)\n",
            "\u001b[2K     \u001b[90m━━━━━━━━━━━━━━━━━━━━━━━━━━━━━━━━━━━━━━━━\u001b[0m \u001b[32m82.5/82.5 kB\u001b[0m \u001b[31m1.4 MB/s\u001b[0m eta \u001b[36m0:00:00\u001b[0m\n",
            "\u001b[?25hRequirement already satisfied: dash in /usr/local/lib/python3.10/dist-packages (2.16.1)\n",
            "Requirement already satisfied: plotly in /usr/local/lib/python3.10/dist-packages (5.15.0)\n",
            "Requirement already satisfied: certifi in /usr/local/lib/python3.10/dist-packages (from httpx==0.20) (2024.2.2)\n",
            "Requirement already satisfied: charset-normalizer in /usr/local/lib/python3.10/dist-packages (from httpx==0.20) (3.3.2)\n",
            "Requirement already satisfied: sniffio in /usr/local/lib/python3.10/dist-packages (from httpx==0.20) (1.3.1)\n",
            "Collecting rfc3986[idna2008]<2,>=1.3 (from httpx==0.20)\n",
            "  Downloading rfc3986-1.5.0-py2.py3-none-any.whl (31 kB)\n",
            "Collecting httpcore<0.14.0,>=0.13.3 (from httpx==0.20)\n",
            "  Downloading httpcore-0.13.7-py3-none-any.whl (58 kB)\n",
            "\u001b[2K     \u001b[90m━━━━━━━━━━━━━━━━━━━━━━━━━━━━━━━━━━━━━━━━\u001b[0m \u001b[32m58.8/58.8 kB\u001b[0m \u001b[31m6.8 MB/s\u001b[0m eta \u001b[36m0:00:00\u001b[0m\n",
            "\u001b[?25hRequirement already satisfied: Flask<3.1,>=1.0.4 in /usr/local/lib/python3.10/dist-packages (from dash) (2.2.5)\n",
            "Requirement already satisfied: Werkzeug<3.1 in /usr/local/lib/python3.10/dist-packages (from dash) (3.0.1)\n",
            "Requirement already satisfied: dash-html-components==2.0.0 in /usr/local/lib/python3.10/dist-packages (from dash) (2.0.0)\n",
            "Requirement already satisfied: dash-core-components==2.0.0 in /usr/local/lib/python3.10/dist-packages (from dash) (2.0.0)\n",
            "Requirement already satisfied: dash-table==5.0.0 in /usr/local/lib/python3.10/dist-packages (from dash) (5.0.0)\n",
            "Requirement already satisfied: importlib-metadata in /usr/local/lib/python3.10/dist-packages (from dash) (7.0.2)\n",
            "Requirement already satisfied: typing-extensions>=4.1.1 in /usr/local/lib/python3.10/dist-packages (from dash) (4.10.0)\n",
            "Requirement already satisfied: requests in /usr/local/lib/python3.10/dist-packages (from dash) (2.31.0)\n",
            "Requirement already satisfied: retrying in /usr/local/lib/python3.10/dist-packages (from dash) (1.3.4)\n",
            "Requirement already satisfied: nest-asyncio in /usr/local/lib/python3.10/dist-packages (from dash) (1.6.0)\n",
            "Requirement already satisfied: setuptools in /usr/local/lib/python3.10/dist-packages (from dash) (67.7.2)\n",
            "Requirement already satisfied: tenacity>=6.2.0 in /usr/local/lib/python3.10/dist-packages (from plotly) (8.2.3)\n",
            "Requirement already satisfied: packaging in /usr/local/lib/python3.10/dist-packages (from plotly) (24.0)\n",
            "Requirement already satisfied: Jinja2>=3.0 in /usr/local/lib/python3.10/dist-packages (from Flask<3.1,>=1.0.4->dash) (3.1.3)\n",
            "Requirement already satisfied: itsdangerous>=2.0 in /usr/local/lib/python3.10/dist-packages (from Flask<3.1,>=1.0.4->dash) (2.1.2)\n",
            "Requirement already satisfied: click>=8.0 in /usr/local/lib/python3.10/dist-packages (from Flask<3.1,>=1.0.4->dash) (8.1.7)\n",
            "Collecting h11<0.13,>=0.11 (from httpcore<0.14.0,>=0.13.3->httpx==0.20)\n",
            "  Downloading h11-0.12.0-py3-none-any.whl (54 kB)\n",
            "\u001b[2K     \u001b[90m━━━━━━━━━━━━━━━━━━━━━━━━━━━━━━━━━━━━━━━━\u001b[0m \u001b[32m54.9/54.9 kB\u001b[0m \u001b[31m5.6 MB/s\u001b[0m eta \u001b[36m0:00:00\u001b[0m\n",
            "\u001b[?25hRequirement already satisfied: anyio==3.* in /usr/local/lib/python3.10/dist-packages (from httpcore<0.14.0,>=0.13.3->httpx==0.20) (3.7.1)\n",
            "Requirement already satisfied: idna>=2.8 in /usr/local/lib/python3.10/dist-packages (from anyio==3.*->httpcore<0.14.0,>=0.13.3->httpx==0.20) (3.6)\n",
            "Requirement already satisfied: exceptiongroup in /usr/local/lib/python3.10/dist-packages (from anyio==3.*->httpcore<0.14.0,>=0.13.3->httpx==0.20) (1.2.0)\n",
            "Requirement already satisfied: MarkupSafe>=2.1.1 in /usr/local/lib/python3.10/dist-packages (from Werkzeug<3.1->dash) (2.1.5)\n",
            "Requirement already satisfied: zipp>=0.5 in /usr/local/lib/python3.10/dist-packages (from importlib-metadata->dash) (3.17.0)\n",
            "Requirement already satisfied: urllib3<3,>=1.21.1 in /usr/local/lib/python3.10/dist-packages (from requests->dash) (2.0.7)\n",
            "Requirement already satisfied: six>=1.7.0 in /usr/local/lib/python3.10/dist-packages (from retrying->dash) (1.16.0)\n",
            "Installing collected packages: rfc3986, h11, httpcore, httpx\n",
            "Successfully installed h11-0.12.0 httpcore-0.13.7 httpx-0.20.0 rfc3986-1.5.0\n"
          ]
        }
      ],
      "source": [
        "!pip install pandas dash\n",
        "!pip3 install httpx==0.20 dash plotly\n",
        "\n",
        "import dash\n",
        "from dash import dcc\n",
        "from dash import html\n",
        "from dash.dependencies import Input, Output\n",
        "import pandas as pd\n",
        "import plotly.express as px"
      ]
    },
    {
      "cell_type": "markdown",
      "source": [
        "## Make the Dashboard"
      ],
      "metadata": {
        "id": "3hmpeMGcJkcW"
      }
    },
    {
      "cell_type": "code",
      "source": [
        "#Load the data\n",
        "data = pd.read_csv('https://cf-courses-data.s3.us.cloud-object-storage.appdomain.cloud/IBMDeveloperSkillsNetwork-DV0101EN-SkillsNetwork/Data%20Files/historical_automobile_sales.csv')\n",
        "\n",
        "#Initialize the Dash app\n",
        "app = dash.Dash(__name__)\n",
        "\n",
        "#Create the layout of the app\n",
        "app.layout = html.Div([\n",
        "    html.H1('Automobile Sales Statistics Dashboard', style={'textAlign': 'center', 'color': '#503D36', 'font-size': 24}),\n",
        "    html.Div([\n",
        "        html.Label('Select Statistics:'),\n",
        "        #Report type dropdown\n",
        "        dcc.Dropdown(\n",
        "            id='dropdown-statistics',\n",
        "            options=[\n",
        "                {'label': 'Yearly Statistics', 'value': 'Yearly Statistics'},\n",
        "                {'label': 'Recession Period Statistics', 'value': 'Recession Period Statistics'}\n",
        "                ],\n",
        "            placeholder='Select a report type'\n",
        "        )\n",
        "    ]),\n",
        "    #Year dropdown\n",
        "    html.Div(dcc.Dropdown(\n",
        "            id='select-year',\n",
        "            options=[{'label': i, 'value': i} for i in range(1980, 2024, 1)],\n",
        "            placeholder='Select year'\n",
        "        )),\n",
        "    html.Div(id='output-container', className='chart-grid')\n",
        "])\n",
        "\n",
        "#Callback for disabling year dropdown when 'Recession Period Statistics' is chosen\n",
        "@app.callback(\n",
        "    Output(component_id='select-year', component_property='disabled'),\n",
        "    Input(component_id='dropdown-statistics',component_property='value'))\n",
        "\n",
        "def update_input_container(selected_statistics):\n",
        "    if selected_statistics == 'Yearly Statistics':\n",
        "        return False\n",
        "    else:\n",
        "        return True\n",
        "\n",
        "#Callback for plotting\n",
        "@app.callback(\n",
        "    Output(component_id='output-container', component_property='children'),\n",
        "    [Input(component_id='select-year', component_property='value'), Input(component_id='dropdown-statistics', component_property='value')])\n",
        "\n",
        "\n",
        "def update_output_container(input_year, selected_statistics):\n",
        "    if selected_statistics == 'Recession Period Statistics':\n",
        "        #Filter the data for recession periods\n",
        "        recession_data = data[data['Recession'] == 1]\n",
        "\n",
        "        #Create and display graphs for recession period statistics\n",
        "        yearly_rec = recession_data.groupby('Year')['Automobile_Sales'].mean().reset_index()\n",
        "        R_chart1 = dcc.Graph(figure=px.line(yearly_rec, x='Year', y='Automobile_Sales', title=\"Average Automobile Sales Fluctuation over Recession Period\"))\n",
        "\n",
        "        average_sales = recession_data.groupby('Vehicle_Type')['Automobile_Sales'].mean().reset_index()\n",
        "        R_chart2  = dcc.Graph(figure=px.bar(average_sales, x='Vehicle_Type', y='Automobile_Sales', title='Average Number of Vehicles Sold By Vehicle Type During Recession'))\n",
        "\n",
        "        exp_rec = recession_data.groupby('Vehicle_Type')['Advertising_Expenditure'].sum().reset_index()\n",
        "        R_chart3 = dcc.Graph(figure=px.pie(exp_rec, values='Advertising_Expenditure', names='Vehicle_Type', title='Total Expenditure Share By Vehicle Type During Recessions'))\n",
        "\n",
        "        R_chart4 = dcc.Graph(figure=px.bar(recession_data, x='unemployment_rate', y='Automobile_Sales', color='Vehicle_Type', title='Effect of Unemployment Rate on Vehicle Type and Sales'))\n",
        "\n",
        "        return [\n",
        "            html.Div(className='chart-item', children=[html.Div(children=R_chart1),html.Div(children=R_chart2)], style={'display': 'flex'}),\n",
        "            html.Div(className='chart-item', children=[html.Div(children=R_chart3),html.Div(children=R_chart4)], style={'display': 'flex'})\n",
        "            ]\n",
        "\n",
        "    elif (input_year and selected_statistics=='Yearly Statistics'):\n",
        "        #Filter the data based on input year\n",
        "        yearly_data = data[data['Year'] == input_year]\n",
        "\n",
        "        #Create and display graphs for yearly statistics\n",
        "        yearly_sales = data.groupby('Year')['Automobile_Sales'].mean().reset_index()\n",
        "        Y_chart1 = dcc.Graph(figure=px.line(yearly_sales, x='Year', y='Automobile_Sales', title='Yearly Average Automobile Sales'))\n",
        "\n",
        "\n",
        "        tot_month_sales = yearly_data.groupby('Month')['Automobile_Sales'].sum().reset_index()\n",
        "        Y_chart2 = dcc.Graph(figure=px.line(tot_month_sales, x='Month', y='Automobile_Sales', title='Total Monthly Automobile Sales in {}'.format(input_year)))\n",
        "\n",
        "        month_sales = yearly_data.groupby(['Month', 'Vehicle_Type'], as_index=False)['Automobile_Sales'].mean()\n",
        "        Y_chart3 = dcc.Graph(figure=px.bar(month_sales, x='Month', y='Automobile_Sales', color='Vehicle_Type', title='Average Vehicles Sold by Vehicle Type in {}'.format(input_year)))\n",
        "\n",
        "        exp_data = yearly_data.groupby('Vehicle_Type')['Advertising_Expenditure'].sum().reset_index()\n",
        "        Y_chart4 = dcc.Graph(figure=px.pie(exp_data, values='Advertising_Expenditure', names='Vehicle_Type', title='Total Advertisement Expenditure for Each Vehicle Type in {}'.format(input_year)))\n",
        "\n",
        "        return [\n",
        "            html.Div(className='chart-item', children=[html.Div(children=Y_chart1),html.Div(children=Y_chart2)], style={'display': 'flex'}),\n",
        "            html.Div(className='chart-item', children=[html.Div(children=Y_chart3),html.Div(children=Y_chart4)], style={'display': 'flex'})\n",
        "            ]\n",
        "\n",
        "    else:\n",
        "        return None\n",
        "\n",
        "if __name__ == '__main__':\n",
        "    app.run_server(debug=True)"
      ],
      "metadata": {
        "colab": {
          "base_uri": "https://localhost:8080/",
          "height": 671
        },
        "id": "DroAxlrRImTz",
        "outputId": "051dbdf5-14de-4e09-ba69-1c83ea1131cb"
      },
      "execution_count": 2,
      "outputs": [
        {
          "output_type": "display_data",
          "data": {
            "text/plain": [
              "<IPython.core.display.Javascript object>"
            ],
            "application/javascript": [
              "(async (port, path, width, height, cache, element) => {\n",
              "    if (!google.colab.kernel.accessAllowed && !cache) {\n",
              "      return;\n",
              "    }\n",
              "    element.appendChild(document.createTextNode(''));\n",
              "    const url = await google.colab.kernel.proxyPort(port, {cache});\n",
              "    const iframe = document.createElement('iframe');\n",
              "    iframe.src = new URL(path, url).toString();\n",
              "    iframe.height = height;\n",
              "    iframe.width = width;\n",
              "    iframe.style.border = 0;\n",
              "    iframe.allow = [\n",
              "        'accelerometer',\n",
              "        'autoplay',\n",
              "        'camera',\n",
              "        'clipboard-read',\n",
              "        'clipboard-write',\n",
              "        'gyroscope',\n",
              "        'magnetometer',\n",
              "        'microphone',\n",
              "        'serial',\n",
              "        'usb',\n",
              "        'xr-spatial-tracking',\n",
              "    ].join('; ');\n",
              "    element.appendChild(iframe);\n",
              "  })(8050, \"/\", \"100%\", 650, false, window.element)"
            ]
          },
          "metadata": {}
        }
      ]
    }
  ]
}